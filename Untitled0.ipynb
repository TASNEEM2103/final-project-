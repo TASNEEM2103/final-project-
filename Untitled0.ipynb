{
  "nbformat": 4,
  "nbformat_minor": 0,
  "metadata": {
    "colab": {
      "provenance": []
    },
    "kernelspec": {
      "name": "python3",
      "display_name": "Python 3"
    },
    "language_info": {
      "name": "python"
    },
    "accelerator": "GPU",
    "gpuClass": "standard"
  },
  "cells": [
    {
      "cell_type": "code",
      "execution_count": null,
      "metadata": {
        "colab": {
          "base_uri": "https://localhost:8080/"
        },
        "id": "U_Sm0tSU1Ml4",
        "outputId": "68bf1835-d8e9-446a-bd5b-8b317f6ab81f"
      },
      "outputs": [
        {
          "output_type": "stream",
          "name": "stdout",
          "text": [
            "Looking in indexes: https://pypi.org/simple, https://us-python.pkg.dev/colab-wheels/public/simple/\n",
            "Requirement already satisfied: opencv-python in /usr/local/lib/python3.7/dist-packages (4.6.0.66)\n",
            "Requirement already satisfied: numpy>=1.14.5 in /usr/local/lib/python3.7/dist-packages (from opencv-python) (1.21.6)\n"
          ]
        }
      ],
      "source": [
        "pip install opencv-python"
      ]
    },
    {
      "cell_type": "code",
      "source": [
        "import numpy as np"
      ],
      "metadata": {
        "id": "2-j8sXJC1zBL"
      },
      "execution_count": null,
      "outputs": []
    },
    {
      "cell_type": "code",
      "source": [
        "import cv2 as cv"
      ],
      "metadata": {
        "id": "rMFMoE7x2bHY"
      },
      "execution_count": null,
      "outputs": []
    },
    {
      "cell_type": "code",
      "source": [
        "import os\n"
      ],
      "metadata": {
        "id": "EHIQnFSF4w6_"
      },
      "execution_count": null,
      "outputs": []
    },
    {
      "cell_type": "code",
      "source": [
        "input=cv.imread('/content/animal/cat/0.jpg')\n",
        "input=cv.resize(input,(500,500))\n",
        "input= np.asarray(input)\n",
        "out1=len(os.listdir('/content/animal'))\n",
        "output=[1]\n",
        "\n"
      ],
      "metadata": {
        "id": "I_8DSGz--WNj"
      },
      "execution_count": null,
      "outputs": []
    },
    {
      "cell_type": "code",
      "source": [
        "for i in os.listdir('/content/animal'):\n",
        " for j in range(1,out1):\n",
        "  for y in  os.listdir('/content/animal/'+i):\n",
        "   img=cv.imread('/content/animal/'+i+'/'+y)\n",
        "   if img is None:\n",
        "    continue\n",
        "   img=cv.resize(img,(500,500))\n",
        "  \n",
        "   img= np.asarray(img)\n",
        "   input=np.concatenate((input,img),axis=0)\n",
        "   \n",
        "   output.append(j)\n",
        "  \n"
      ],
      "metadata": {
        "id": "58TFzbRJ3ELz"
      },
      "execution_count": null,
      "outputs": []
    },
    {
      "cell_type": "code",
      "source": [
        "input.shape"
      ],
      "metadata": {
        "id": "rP0J1k1FaC_c",
        "colab": {
          "base_uri": "https://localhost:8080/"
        },
        "outputId": "d5a352d3-96c0-4831-90e9-d4e2433e0775"
      },
      "execution_count": null,
      "outputs": [
        {
          "output_type": "execute_result",
          "data": {
            "text/plain": [
              "(130500, 500, 3)"
            ]
          },
          "metadata": {},
          "execution_count": 7
        }
      ]
    },
    {
      "cell_type": "code",
      "source": [
        "len(output)"
      ],
      "metadata": {
        "id": "qFnOEU-bZ0Ij",
        "colab": {
          "base_uri": "https://localhost:8080/"
        },
        "outputId": "9a5a1288-ca4f-4d51-b42a-8fb80ab2e88c"
      },
      "execution_count": null,
      "outputs": [
        {
          "output_type": "execute_result",
          "data": {
            "text/plain": [
              "261"
            ]
          },
          "metadata": {},
          "execution_count": 8
        }
      ]
    },
    {
      "cell_type": "code",
      "source": [
        "import keras\n",
        "from keras.models import Sequential\n",
        "from keras.layers.core import Dense, Dropout, Activation, Flatten\n",
        "from keras.layers.convolutional import Convolution2D, MaxPooling2D"
      ],
      "metadata": {
        "id": "zRa5pWC2PFoM"
      },
      "execution_count": null,
      "outputs": []
    },
    {
      "cell_type": "code",
      "source": [
        "model = Sequential()\n",
        "model.add(Convolution2D(30,3,data_format='channels_last',activation='relu',input_shape=(500,500, 3)))\n",
        "model.add(MaxPooling2D(pool_size=(2,2)))\n",
        "model.add(Flatten())\n",
        "model.add(Dense(12))\n",
        "model.add(Dropout(0.5))\n",
        "model.add(Dense((1)))\n",
        "model.add(Activation('softmax'))\n",
        "model.compile(loss='categorical_crossentropy', optimizer = 'adadelta', metrics = ['accuracy'])\n",
        "model.summary()\n",
        "\n"
      ],
      "metadata": {
        "id": "jVbuGEn7SOQE",
        "colab": {
          "base_uri": "https://localhost:8080/"
        },
        "outputId": "1ea532f1-612e-4dee-dfe0-f111722f18d9"
      },
      "execution_count": null,
      "outputs": [
        {
          "output_type": "stream",
          "name": "stdout",
          "text": [
            "Model: \"sequential\"\n",
            "_________________________________________________________________\n",
            " Layer (type)                Output Shape              Param #   \n",
            "=================================================================\n",
            " conv2d (Conv2D)             (None, 498, 498, 30)      840       \n",
            "                                                                 \n",
            " max_pooling2d (MaxPooling2D  (None, 249, 249, 30)     0         \n",
            " )                                                               \n",
            "                                                                 \n",
            " flatten (Flatten)           (None, 1860030)           0         \n",
            "                                                                 \n",
            " dense (Dense)               (None, 12)                22320372  \n",
            "                                                                 \n",
            " dropout (Dropout)           (None, 12)                0         \n",
            "                                                                 \n",
            " dense_1 (Dense)             (None, 1)                 13        \n",
            "                                                                 \n",
            " activation (Activation)     (None, 1)                 0         \n",
            "                                                                 \n",
            "=================================================================\n",
            "Total params: 22,321,225\n",
            "Trainable params: 22,321,225\n",
            "Non-trainable params: 0\n",
            "_________________________________________________________________\n"
          ]
        }
      ]
    },
    {
      "cell_type": "code",
      "source": [
        "len(output)"
      ],
      "metadata": {
        "id": "kjk0aSyluFCd",
        "colab": {
          "base_uri": "https://localhost:8080/"
        },
        "outputId": "d7830ca0-0e04-4ca6-d2ea-202510fd2691"
      },
      "execution_count": null,
      "outputs": [
        {
          "output_type": "execute_result",
          "data": {
            "text/plain": [
              "261"
            ]
          },
          "metadata": {},
          "execution_count": 11
        }
      ]
    },
    {
      "cell_type": "code",
      "source": [
        "out=np.asarray(output)"
      ],
      "metadata": {
        "id": "w97_T_EmyJWZ"
      },
      "execution_count": null,
      "outputs": []
    },
    {
      "cell_type": "code",
      "source": [
        "input.shape"
      ],
      "metadata": {
        "colab": {
          "base_uri": "https://localhost:8080/"
        },
        "id": "M99rHqO9-g-V",
        "outputId": "7a89d7c9-dc96-41a0-9dae-453739d6c0d5"
      },
      "execution_count": null,
      "outputs": [
        {
          "output_type": "execute_result",
          "data": {
            "text/plain": [
              "(130500, 500, 3)"
            ]
          },
          "metadata": {},
          "execution_count": 13
        }
      ]
    },
    {
      "cell_type": "code",
      "source": [
        "input1=input.reshape(261,500,500,3)"
      ],
      "metadata": {
        "id": "MfbTXAXGal1U"
      },
      "execution_count": null,
      "outputs": []
    },
    {
      "cell_type": "code",
      "source": [
        "output1=out.reshape(261,1)"
      ],
      "metadata": {
        "id": "obeueolWbm95"
      },
      "execution_count": null,
      "outputs": []
    },
    {
      "cell_type": "code",
      "source": [
        "model.fit(input1, output1, batch_size=261, verbose=0, epochs=0)\n"
      ],
      "metadata": {
        "id": "v24B_QolxvAn",
        "colab": {
          "base_uri": "https://localhost:8080/"
        },
        "outputId": "ab542b31-c61e-4e95-cf98-be21e888e1d1"
      },
      "execution_count": null,
      "outputs": [
        {
          "output_type": "execute_result",
          "data": {
            "text/plain": [
              "<keras.callbacks.History at 0x7f78470046d0>"
            ]
          },
          "metadata": {},
          "execution_count": 16
        }
      ]
    },
    {
      "cell_type": "code",
      "source": [
        "test=cv.imread('/content/animal/cat/11.jpg')\n",
        "test=cv.resize(test,(500,500))\n",
        "test= np.asarray(test)\n",
        "outtest=[1]\n",
        "testout= np.asarray(outtest)"
      ],
      "metadata": {
        "id": "B2FDXXoOfFWM"
      },
      "execution_count": null,
      "outputs": []
    },
    {
      "cell_type": "code",
      "source": [
        "test=test.reshape(1,500,500,3)"
      ],
      "metadata": {
        "id": "iToc1NP-fvkK"
      },
      "execution_count": null,
      "outputs": []
    },
    {
      "cell_type": "code",
      "source": [
        "model.evaluate(test,testout)"
      ],
      "metadata": {
        "colab": {
          "base_uri": "https://localhost:8080/"
        },
        "id": "NsS6S5FhfjbQ",
        "outputId": "4ea1fa74-ce5f-43fc-b5c5-f0f2704f58ac"
      },
      "execution_count": null,
      "outputs": [
        {
          "output_type": "stream",
          "name": "stdout",
          "text": [
            "1/1 [==============================] - 0s 95ms/step - loss: 0.0000e+00 - accuracy: 1.0000\n"
          ]
        },
        {
          "output_type": "execute_result",
          "data": {
            "text/plain": [
              "[0.0, 1.0]"
            ]
          },
          "metadata": {},
          "execution_count": 42
        }
      ]
    }
  ]
}